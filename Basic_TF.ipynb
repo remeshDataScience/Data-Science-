{
  "nbformat": 4,
  "nbformat_minor": 0,
  "metadata": {
    "colab": {
      "name": "Basic_TF.ipynb",
      "provenance": [],
      "collapsed_sections": []
    },
    "kernelspec": {
      "name": "python3",
      "display_name": "Python 3"
    }
  },
  "cells": [
    {
      "cell_type": "code",
      "metadata": {
        "id": "zG8xlqUuO-8q",
        "colab_type": "code",
        "colab": {}
      },
      "source": [
        "#####################################################\n",
        "########## Welcome to TensorFlow World ##############\n",
        "#####################################################\n",
        "# Basic Code Structure - Graphs\n",
        "#  Nodes are operators (ops), variables, and constants\n",
        "#  Edges are tensors\n",
        "# 0-d is a scalar\n",
        "# 1-d is a vector\n",
        "# 2-d is a matrix\n",
        "# Etc.\n",
        "# TensorFlow = Tensor + Flow = Data + Flow\n",
        "from __future__ import print_function\n",
        "\n",
        "import tensorflow as tf"
      ],
      "execution_count": 0,
      "outputs": []
    },
    {
      "cell_type": "code",
      "metadata": {
        "id": "H2uSlpC0b8v7",
        "colab_type": "code",
        "outputId": "7b2d353c-c550-4d4c-fa61-be08c50822da",
        "colab": {
          "base_uri": "https://localhost:8080/",
          "height": 34
        }
      },
      "source": [
        "'''\n",
        "HelloWorld example using TensorFlow library.\n",
        "''' \n",
        "hello=tf.constant('Hello, TensorFlow!',tf.string)\n",
        "Sess=tf.Session()\n",
        "Sess.run(hello)"
      ],
      "execution_count": 2,
      "outputs": [
        {
          "output_type": "execute_result",
          "data": {
            "text/plain": [
              "b'Hello, TensorFlow!'"
            ]
          },
          "metadata": {
            "tags": []
          },
          "execution_count": 2
        }
      ]
    },
    {
      "cell_type": "code",
      "metadata": {
        "id": "mY-Vv7Bpfbie",
        "colab_type": "code",
        "outputId": "185fd94b-2dbf-4375-8a06-52d8f2991f27",
        "colab": {
          "base_uri": "https://localhost:8080/",
          "height": 34
        }
      },
      "source": [
        "'''\n",
        "Basic Operations example using TensorFlow library.\n",
        "'''\n",
        "\n",
        "from __future__ import print_function\n",
        "\n",
        "import tensorflow as tf\n",
        "a=tf.constant(2,tf.uint8)\n",
        "b=tf.constant(3,tf.uint8)\n",
        "sess=tf.Session()\n",
        "print(sess.run(a*b))"
      ],
      "execution_count": 3,
      "outputs": [
        {
          "output_type": "stream",
          "text": [
            "6\n"
          ],
          "name": "stdout"
        }
      ]
    },
    {
      "cell_type": "code",
      "metadata": {
        "id": "HGrG--JJwQTM",
        "colab_type": "code",
        "colab": {}
      },
      "source": [
        "\n",
        "# Some basic operations\n",
        "x = tf.add(a, b, name=\"add\")\n",
        "y = tf.div(a, b, name=\"divide\")"
      ],
      "execution_count": 0,
      "outputs": []
    },
    {
      "cell_type": "code",
      "metadata": {
        "id": "1TH1oXAOgaf3",
        "colab_type": "code",
        "outputId": "66992389-cb08-41bc-be11-1554e18a218f",
        "colab": {
          "base_uri": "https://localhost:8080/",
          "height": 101
        }
      },
      "source": [
        "'''\n",
        "Basic Operations example using TensorFlow library for different dataptypes using type casting.\n",
        "'''\n",
        "x=tf.constant(2,tf.uint32)\n",
        "y=tf.constant(3,tf.float32)\n",
        "sess=tf.Session()\n",
        "w=tf.bitcast(tf.cast(x, tf.float32), tf.float32)\n",
        "print(sess.run(w*y))\n",
        "# Launch the default graph.\n",
        "with tf.Session() as sess:\n",
        "    print(\"x== %i, y ==\"%  a.eval(),b.eval())\n",
        "    print(\"Addition with constants: %i\" % sess.run(a+b))\n",
        "    print(\"Multiplication with constants: %i\" % sess.run(a*b))\n",
        "    # print(tf.multiply(w*y))\n",
        "    print (\"Addition with in build function: %f\"% sess.run(tf.multiply(w,y)))\n",
        "\n"
      ],
      "execution_count": 5,
      "outputs": [
        {
          "output_type": "stream",
          "text": [
            "6.0\n",
            "x== 2, y == 3\n",
            "Addition with constants: 5\n",
            "Multiplication with constants: 6\n",
            "Addition with in build function: 6.000000\n"
          ],
          "name": "stdout"
        }
      ]
    },
    {
      "cell_type": "code",
      "metadata": {
        "id": "HC6cLRzomkU2",
        "colab_type": "code",
        "outputId": "257d97f6-f33b-4ef0-a3df-2743ea677b8a",
        "colab": {
          "base_uri": "https://localhost:8080/",
          "height": 34
        }
      },
      "source": [
        "#Session is the runtime environment of a graph, where operations are executed,\n",
        "# and tensors are evaluated\n",
        "a=tf.constant(4,tf.uint8)\n",
        "b=tf.constant(4,tf.uint8)\n",
        "add_var=tf.add(a,b)\n",
        "with tf.Session() as session:\n",
        "  print(session.run(add_var))"
      ],
      "execution_count": 6,
      "outputs": [
        {
          "output_type": "stream",
          "text": [
            "8\n"
          ],
          "name": "stdout"
        }
      ]
    },
    {
      "cell_type": "code",
      "metadata": {
        "id": "NhWfo9U-zd0m",
        "colab_type": "code",
        "outputId": "db06decf-19d1-40ae-c0c1-43a418222a29",
        "colab": {
          "base_uri": "https://localhost:8080/",
          "height": 34
        }
      },
      "source": [
        "#Placeholders\n",
        "#So far we have used Variables to manage our data, but there is a more basic structure, the placeholder.\n",
        "#A placeholder is simply a variable that we will assign data to at a later date.\n",
        "#It allows us to create our operations and build our computation graph, without needing the data.\n",
        "\n",
        "x = tf.placeholder(\"float\", None)\n",
        "y = x * 2\n",
        "\n",
        "with tf.Session() as session:\n",
        "    result = session.run(y, feed_dict={x: [1, 2, 3]})\n",
        "    print(result)"
      ],
      "execution_count": 7,
      "outputs": [
        {
          "output_type": "stream",
          "text": [
            "[2. 4. 6.]\n"
          ],
          "name": "stdout"
        }
      ]
    },
    {
      "cell_type": "code",
      "metadata": {
        "id": "74wi18CS02aN",
        "colab_type": "code",
        "outputId": "0d07081d-0c70-478e-f032-fcf2d4acbade",
        "colab": {
          "base_uri": "https://localhost:8080/",
          "height": 101
        }
      },
      "source": [
        "#######################################\n",
        "######## Defining Variables ###########\n",
        "#######################################\n",
        "\n",
        "# Create three variables with some default values.\n",
        "weights = tf.Variable(tf.random_normal([2, 3], stddev=0.1),\n",
        "                      name=\"weights\")\n",
        "biases = tf.Variable(tf.zeros([3]), name=\"biases\")\n",
        "custom_variable = tf.Variable(tf.zeros([3]), name=\"custom\")\n",
        "\n",
        "# \"variable_list_custom\" is the list of variables that we want to initialize.\n",
        "variable_list_custom = [weights, custom_variable]\n",
        "\n",
        "# The initializer\n",
        "init_custom_op = tf.variables_initializer(var_list=variable_list_custom )\n",
        "print(init_custom_op)\n",
        "\n",
        "\n"
      ],
      "execution_count": 8,
      "outputs": [
        {
          "output_type": "stream",
          "text": [
            "name: \"init\"\n",
            "op: \"NoOp\"\n",
            "input: \"^weights/Assign\"\n",
            "input: \"^custom/Assign\"\n",
            "\n"
          ],
          "name": "stdout"
        }
      ]
    },
    {
      "cell_type": "code",
      "metadata": {
        "id": "gaWR0nxmugSb",
        "colab_type": "code",
        "colab": {
          "base_uri": "https://localhost:8080/",
          "height": 154
        },
        "outputId": "7d9615f3-582f-407d-e390-4b3f0f2d338e"
      },
      "source": [
        "W2 = tf.Variable(tf.zeros((2,2)), name=\"weights\")\n",
        "W1 = tf.ones((2,2))\n",
        "with tf.Session() as sess:\n",
        "  print(sess.run(W1))\n",
        "  sess.run(tf.initialize_all_variables())\n",
        "  print(sess.run(W2))"
      ],
      "execution_count": 13,
      "outputs": [
        {
          "output_type": "stream",
          "text": [
            "[[1. 1.]\n",
            " [1. 1.]]\n",
            "WARNING:tensorflow:From /usr/local/lib/python3.6/dist-packages/tensorflow_core/python/util/tf_should_use.py:198: initialize_all_variables (from tensorflow.python.ops.variables) is deprecated and will be removed after 2017-03-02.\n",
            "Instructions for updating:\n",
            "Use `tf.global_variables_initializer` instead.\n",
            "[[0. 0.]\n",
            " [0. 0.]]\n"
          ],
          "name": "stdout"
        }
      ]
    }
  ]
}